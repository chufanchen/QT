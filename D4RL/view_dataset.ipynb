{
 "cells": [
  {
   "cell_type": "code",
   "execution_count": 2,
   "metadata": {},
   "outputs": [
    {
     "name": "stderr",
     "output_type": "stream",
     "text": [
      "load datafile: 100%|██████████| 8/8 [00:00<00:00, 12.77it/s]"
     ]
    },
    {
     "name": "stdout",
     "output_type": "stream",
     "text": [
      "Dataset keys: dict_keys(['actions', 'infos/goal', 'infos/qpos', 'infos/qvel', 'observations', 'rewards', 'terminals', 'timeouts'])\n",
      "actions shape: (2000000, 2)\n",
      "infos/goal shape: (2000000, 2)\n",
      "infos/qpos shape: (2000000, 2)\n",
      "infos/qvel shape: (2000000, 2)\n",
      "observations shape: (2000000, 4)\n",
      "rewards shape: (2000000,)\n",
      "terminals shape: (2000000,)\n",
      "timeouts shape: (2000000,)\n"
     ]
    },
    {
     "name": "stderr",
     "output_type": "stream",
     "text": [
      "\n"
     ]
    }
   ],
   "source": [
    "# load dataset and view elements\n",
    "import gym\n",
    "import d4rl\n",
    "import numpy as np\n",
    "\n",
    "# Load the dataset\n",
    "env_name = \"maze2d-medium-v1\"  # You can change this to any D4RL environment\n",
    "env = gym.make(env_name)\n",
    "dataset = env.get_dataset()\n",
    "\n",
    "# Print dataset keys and shapes\n",
    "print(\"Dataset keys:\", dataset.keys())\n",
    "for key in dataset.keys():\n",
    "    if isinstance(dataset[key], np.ndarray):\n",
    "        print(f\"{key} shape:\", dataset[key].shape)\n",
    "\n"
   ]
  },
  {
   "cell_type": "code",
   "execution_count": null,
   "metadata": {},
   "outputs": [],
   "source": [
    "\n"
   ]
  }
 ],
 "metadata": {
  "kernelspec": {
   "display_name": "erqt",
   "language": "python",
   "name": "python3"
  },
  "language_info": {
   "codemirror_mode": {
    "name": "ipython",
    "version": 3
   },
   "file_extension": ".py",
   "mimetype": "text/x-python",
   "name": "python",
   "nbconvert_exporter": "python",
   "pygments_lexer": "ipython3",
   "version": "3.9.18"
  }
 },
 "nbformat": 4,
 "nbformat_minor": 2
}
